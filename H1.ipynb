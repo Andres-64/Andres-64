{
  "nbformat": 4,
  "nbformat_minor": 0,
  "metadata": {
    "colab": {
      "provenance": [],
      "authorship_tag": "ABX9TyOoX0oVG6v+mm21f8Ro4RyP",
      "include_colab_link": true
    },
    "kernelspec": {
      "name": "python3",
      "display_name": "Python 3"
    },
    "language_info": {
      "name": "python"
    }
  },
  "cells": [
    {
      "cell_type": "markdown",
      "metadata": {
        "id": "view-in-github",
        "colab_type": "text"
      },
      "source": [
        "<a href=\"https://colab.research.google.com/github/Andres-64/Andres-64/blob/main/H1.ipynb\" target=\"_parent\"><img src=\"https://colab.research.google.com/assets/colab-badge.svg\" alt=\"Open In Colab\"/></a>"
      ]
    },
    {
      "cell_type": "markdown",
      "source": [
        "Name: Andres Garcia\n",
        "Homework 1 Due Jan. 21\n"
      ],
      "metadata": {
        "id": "n2VSGVzHfqph"
      }
    },
    {
      "cell_type": "markdown",
      "source": [
        "1.\tInput:\t\tx, y, Output:\tx2 − y2"
      ],
      "metadata": {
        "id": "GpB7Y9bJf24-"
      }
    },
    {
      "cell_type": "code",
      "source": [
        "def diff_square():\n",
        "    # Input for x\n",
        "    x = float(input(\"x: \"))\n",
        "\n",
        "    # Input for y\n",
        "    y = float(input(\"y: \"))\n",
        "\n",
        "    # Calculate the difference between x^2 and y^2 and print the result\n",
        "    print(f\"x^2 - y^2: {x**2 - y**2}\")\n",
        "\n",
        "# Call the function\n",
        "diff_square()"
      ],
      "metadata": {
        "colab": {
          "base_uri": "https://localhost:8080/"
        },
        "id": "S0a4oNpXf2_3",
        "outputId": "e578ef3d-1cff-4acd-8a7f-d61fc26abba8"
      },
      "execution_count": 2,
      "outputs": [
        {
          "output_type": "stream",
          "name": "stdout",
          "text": [
            "x: 10\n",
            "y: 5\n",
            "x^2 - y^2: 75.0\n"
          ]
        }
      ]
    },
    {
      "cell_type": "markdown",
      "source": [
        "2.\tInput:\ta, b\n",
        "Output:\t|c| = |a + b i| = √a2 + b2 Do not use direct build-in function.\n"
      ],
      "metadata": {
        "id": "oJjc2sSXkUPg"
      }
    },
    {
      "cell_type": "code",
      "source": [
        "def complex_mag(a, b):\n",
        "    # Calculate the magnitude using the formula |c| = √(a^2 + b^2)\n",
        "    mag = (a**2 + b**2)**0.5\n",
        "\n",
        "    # Return the calculated magnitude\n",
        "    return mag\n",
        "\n",
        "# Input for a\n",
        "a = float(input(\"a: \"))\n",
        "\n",
        "# Input for b\n",
        "b = float(input(\"b: \"))\n",
        "\n",
        "# Call the complex_mag function with input values for a and b\n",
        "mag_result = complex_mag(a, b)\n",
        "\n",
        "# Print the result of the magnitude calculation\n",
        "print(f\"|c| = |a + bi|: {mag_result}\")"
      ],
      "metadata": {
        "colab": {
          "base_uri": "https://localhost:8080/"
        },
        "id": "TMCfBfYdkb21",
        "outputId": "640fc080-0aff-4b6a-f6e1-71502aa762cd"
      },
      "execution_count": 3,
      "outputs": [
        {
          "output_type": "stream",
          "name": "stdout",
          "text": [
            "a: 5\n",
            "b: 12\n",
            "|c| = |a + bi|: 13.0\n"
          ]
        }
      ]
    },
    {
      "cell_type": "markdown",
      "source": [
        "3.\tsolve equation\tx2 − 2px + q = 0 Input:\tp, q\n",
        "Output:\tx1, x2\n"
      ],
      "metadata": {
        "id": "XbXBFjegM1Xy"
      }
    },
    {
      "cell_type": "code",
      "source": [
        "def quadratic(p, q):\n",
        "    # Coefficients for the quadratic equation x^2 - 2px + q = 0\n",
        "    a = 1\n",
        "    b = -2 * p\n",
        "    c = q\n",
        "\n",
        "    # Quadratic formula to find the solutions x1 and x2\n",
        "    x1 = (-b + (b**2 - 4*a*c)**0.5) / (2*a)\n",
        "    x2 = (-b - (b**2 - 4*a*c)**0.5) / (2*a)\n",
        "\n",
        "    # Return the solutions x1 and x2\n",
        "    return x1, x2\n",
        "\n",
        "# Input for p\n",
        "p = float(input(\"p: \"))\n",
        "\n",
        "# Input for q\n",
        "q = float(input(\"q: \"))\n",
        "\n",
        "# Call the quadratic function with input values for p and q\n",
        "result = quadratic(p, q)\n",
        "\n",
        "# Print the solutions of the quadratic equation\n",
        "print(\"solutions: \", result)"
      ],
      "metadata": {
        "colab": {
          "base_uri": "https://localhost:8080/"
        },
        "id": "WuVdq4tNM4H6",
        "outputId": "f2c07c76-d074-4b8c-a854-359ffd8dc2d5"
      },
      "execution_count": 4,
      "outputs": [
        {
          "output_type": "stream",
          "name": "stdout",
          "text": [
            "p: 5\n",
            "q: 6\n",
            "solutions:  (9.358898943540673, 0.641101056459326)\n"
          ]
        }
      ]
    },
    {
      "cell_type": "markdown",
      "source": [
        "4.\tGiven 2-dim array (matrix) A and B,\tFind C  = A + B\n",
        "Input matrix:\tA and B,\t( same size ) Output matrix:\t\tA + B\n",
        "Do not use direct build-in function.\n"
      ],
      "metadata": {
        "id": "rH1fR95TM4Zy"
      }
    },
    {
      "cell_type": "code",
      "source": [
        "def add_matrix(matrix_A, matrix_B):\n",
        "    # Use list comprehension to add corresponding elements of matrix A and matrix B\n",
        "    result_matrix = [[int(a) + int(b) for a, b in zip(row_A, row_B)] for row_A, row_B in zip(matrix_A, matrix_B)]\n",
        "\n",
        "    # Return the result matrix\n",
        "    return result_matrix\n",
        "\n",
        "# Input for matrix A\n",
        "matrix_A_str = input(\"Enter values for matrix A (comma-separated, rows separated by semicolon): \")\n",
        "matrix_A = [list(map(int, row.split(','))) for row in matrix_A_str.split(';')]\n",
        "\n",
        "# Input for matrix B\n",
        "matrix_B_str = input(\"Enter values for matrix B (comma-separated, rows separated by semicolon): \")\n",
        "matrix_B = [list(map(int, row.split(','))) for row in matrix_B_str.split(';')]\n",
        "\n",
        "# Add matrix A and B using the defined function\n",
        "result_matrix = add_matrix(matrix_A, matrix_B)\n",
        "\n",
        "# Display matrices and result\n",
        "print(\"\\nMatrix A:\")\n",
        "for row in matrix_A:\n",
        "    print(row)\n",
        "\n",
        "print(\"\\nMatrix B:\")\n",
        "for row in matrix_B:\n",
        "    print(row)\n",
        "\n",
        "print(\"\\nMatrix C = A + B:\")\n",
        "for row in result_matrix:\n",
        "    print(row)"
      ],
      "metadata": {
        "colab": {
          "base_uri": "https://localhost:8080/"
        },
        "id": "rDvD7EJ_M7ho",
        "outputId": "ed220cee-3a82-4cf5-b728-475898fcb6b7"
      },
      "execution_count": 6,
      "outputs": [
        {
          "output_type": "stream",
          "name": "stdout",
          "text": [
            "Enter values for matrix A (comma-separated, rows separated by semicolon): 1,1,2;3,2,1\n",
            "Enter values for matrix B (comma-separated, rows separated by semicolon): 2,2,4;5,4,2\n",
            "\n",
            "Matrix A:\n",
            "[1, 1, 2]\n",
            "[3, 2, 1]\n",
            "\n",
            "Matrix B:\n",
            "[2, 2, 4]\n",
            "[5, 4, 2]\n",
            "\n",
            "Matrix C = A + B:\n",
            "[3, 3, 6]\n",
            "[8, 6, 3]\n"
          ]
        }
      ]
    }
  ]
}